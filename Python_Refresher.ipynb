{
 "cells": [
  {
   "cell_type": "code",
   "execution_count": null,
   "id": "f8051720",
   "metadata": {},
   "outputs": [
    {
     "name": "stdout",
     "output_type": "stream",
     "text": [
      "There are 345600 seconds in 4 days.\n"
     ]
    }
   ],
   "source": [
    "\n",
    "\n",
    "days = int(input(\"Enter number of days: \"))#initialise days to hold input from user\n",
    "seconds = days * 24 * 60 * 60 #calculate seconds in given days and store in variable seconds\n",
    "print(f\"There are {seconds} seconds in {days} days.\")\n"
   ]
  },
  {
   "cell_type": "code",
   "execution_count": null,
   "id": "d9848553",
   "metadata": {},
   "outputs": [
    {
     "name": "stdout",
     "output_type": "stream",
     "text": [
      "The volume of the sphere with radius 7.0 is 1436.7550402417319.\n"
     ]
    }
   ],
   "source": [
    "import math\n",
    "\n",
    "radius = float(input(\"Enter the radius of the sphere: \"))#initialize radius to hold radius from user\n",
    "volume = (4/3) * math.pi *math.pow(radius, 3) #calculate volume and store it in variable volume\n",
    "print(f\"The volume of the sphere with radius {radius} is {volume}.\")"
   ]
  },
  {
   "cell_type": "code",
   "execution_count": null,
   "id": "a3249833",
   "metadata": {},
   "outputs": [
    {
     "name": "stdout",
     "output_type": "stream",
     "text": [
      "Area: 36.0.\n",
      "Perimeter: 24.0.\n"
     ]
    }
   ],
   "source": [
    "def area(side):#method to get area\n",
    "    return side * side\n",
    "\n",
    "def perimeter(side):#method to get perimeter\n",
    "    return 4 * side\n",
    "\n",
    "side = float(input(\"Enter the side length of the square: \"))#input from user\n",
    "area = area(side)# call area method\n",
    "perimeter = perimeter(side)# call perimeter method\n",
    "print(f\"Area: {area}.\")\n",
    "print(f\"Perimeter: {perimeter}.\")"
   ]
  },
  {
   "cell_type": "code",
   "execution_count": null,
   "id": "74a5c9d2",
   "metadata": {},
   "outputs": [
    {
     "name": "stdout",
     "output_type": "stream",
     "text": [
      "The character 'm' is Lowercase.\n"
     ]
    }
   ],
   "source": [
    "\n",
    "def CharCase(char):\n",
    "    # check if character is uppercase\n",
    "    if char.isupper():\n",
    "        return \"Uppercase\"\n",
    "    # check if character is lowercase\n",
    "    elif char.islower():\n",
    "        return \"Lowercase\"\n",
    "    # not an alphabet\n",
    "    else:\n",
    "        return \"Not an alphabetic character\"\n",
    "\n",
    "# Get a input from the user\n",
    "char = input(\"Enter a character: \")\n",
    "#variable to store the result\n",
    "result = CharCase(char)\n",
    "\n",
    "print(f\"The character '{char}' is {result}.\")"
   ]
  },
  {
   "cell_type": "code",
   "execution_count": null,
   "id": "0b6db1cd",
   "metadata": {},
   "outputs": [
    {
     "name": "stdout",
     "output_type": "stream",
     "text": [
      "1.0416666666666665\n"
     ]
    }
   ],
   "source": [
    "# Initialising variables\n",
    "x = 0\n",
    "y = 20\n",
    "\n",
    "# Iteration until y is less than 6\n",
    "while y >= 6:\n",
    "    y = y - 4 # subtract 4 from y\n",
    "    x = x + (2 / y) # add 2/y to x\n",
    "\n",
    "print(x)\n",
    "\n"
   ]
  },
  {
   "cell_type": "code",
   "execution_count": null,
   "id": "913a1efb",
   "metadata": {},
   "outputs": [
    {
     "name": "stdout",
     "output_type": "stream",
     "text": [
      "The average of the entered values is 5.0.\n"
     ]
    }
   ],
   "source": [
    "# Initialise  variable to hold the total.\n",
    "total_sum = 0\n",
    "\n",
    "# loop to get 5 values from the user and add them to the sum.\n",
    "for i in range(5):\n",
    "    # Get the input value and convert it to a float.\n",
    "    val = float(input(f\"Enter value {i+1}: \"))\n",
    "    # Add to sum\n",
    "    total_sum += val\n",
    "\n",
    "# Calculate the average and store it in variable average.\n",
    "average = total_sum / 5\n",
    "\n",
    "\n",
    "print(f\"The average of the entered values is {average}.\")"
   ]
  },
  {
   "cell_type": "markdown",
   "id": "3855d14e",
   "metadata": {},
   "source": [
    "![alt text](<Screenshot 2025-09-05 172942.png>)\n",
    "\n"
   ]
  },
  {
   "cell_type": "markdown",
   "id": "f8dc666d",
   "metadata": {},
   "source": [
    "![alt text](<Screenshot 2025-09-05 174522.png>)"
   ]
  },
  {
   "cell_type": "markdown",
   "id": "5c02c122",
   "metadata": {},
   "source": [
    "![alt text](<Screenshot 2025-09-05 175336.png>)"
   ]
  }
 ],
 "metadata": {
  "kernelspec": {
   "display_name": "Python 3",
   "language": "python",
   "name": "python3"
  },
  "language_info": {
   "codemirror_mode": {
    "name": "ipython",
    "version": 3
   },
   "file_extension": ".py",
   "mimetype": "text/x-python",
   "name": "python",
   "nbconvert_exporter": "python",
   "pygments_lexer": "ipython3",
   "version": "3.11.9"
  }
 },
 "nbformat": 4,
 "nbformat_minor": 5
}
